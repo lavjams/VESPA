{
 "metadata": {
  "name": "",
  "signature": "sha256:a39a8bcf2397dfe082fa9401fad274f203c4bf4df4c1a72420096ce368a8424b"
 },
 "nbformat": 3,
 "nbformat_minor": 0,
 "worksheets": [
  {
   "cells": [
    {
     "cell_type": "code",
     "collapsed": false,
     "input": [
      "import transitfunctions as trans"
     ],
     "language": "python",
     "metadata": {},
     "outputs": [],
     "prompt_number": 1
    },
    {
     "cell_type": "code",
     "collapsed": false,
     "input": [
      "#Make sure that the function 'calctransit',\n",
      "#Which calculates transit values, actually works\n",
      "#Try it for the sun and earth\n",
      "import astropy.constants as const\n",
      "massearth = const.M_earth.cgs.value\n",
      "masssun = const.M_sun.cgs.value\n",
      "rsun = const.R_sun.cgs.value\n",
      "rearth = const.R_earth.cgs.value\n",
      "eccearth = .0167\n",
      "per = 365.625*86400.0\n",
      "daysecs = 86400.0\n",
      "\n",
      "semi = trans.calcsemimajor(per, (1+(massearth/masssun)))\n",
      "print(\"let's calculate transit values for the Sun and the Earth!\")\n",
      "\n",
      "\n",
      "#Switch angle to 90\n",
      "#Calculate earth's impact parameter\n",
      "imp = trans.calcimp(ecc=eccearth, angle=90, semi=semi,\n",
      "                    rs=1, omega=180)\n",
      "\n",
      "print('start with angle set to 90.')\n",
      "print('semi as ', semi)\n",
      "print('imp as ', imp)\n",
      "print('')\n",
      "\n",
      "solarvals = trans.calctransit(mass1=1, massp=massearth/masssun,\n",
      "                              r1=1, r2=rearth/rsun, imp=imp,\n",
      "                              period=per, ecc=eccearth,\n",
      "                              angle=90, omega=180,\n",
      "                              u1=.394, u2=.296, numruns=1)\n",
      "\n",
      "print('transit probability as ', solarvals['prob'])\n",
      "print('transit T14 as ', solarvals['T14'])\n",
      "\n",
      "\n",
      "\n",
      "\n",
      "\n",
      "#Switch angle to 180\n",
      "#Calculate earth's impact parameter\n",
      "imp2 = trans.calcimp(ecc=eccearth, angle=180, semi=semi,\n",
      "                    rs=1, omega=180)\n",
      "\n",
      "print('')\n",
      "print('')\n",
      "print('now try angle set to 180.')\n",
      "print('semi as ', semi)\n",
      "print('imp as ', imp2)\n",
      "print('produces an invalid impact parameter above!  Negative sign due to angle as well, it seems.')\n",
      "print('')\n",
      "\n",
      "#Errors due to invalid impact parameter!\n",
      "solarvals2 = trans.calctransit(mass1=1, massp=massearth/masssun,\n",
      "                              r1=1, r2=rearth/rsun, imp=imp2,\n",
      "                              period=per, ecc=eccearth,\n",
      "                              angle=180, omega=180,\n",
      "                              u1=.394, u2=.296, numruns=1)\n",
      "\n",
      "print('transit probability as ', solarvals2['prob'])\n",
      "print('transit T14 in days as ', solarvals2['T14']/daysecs)\n"
     ],
     "language": "python",
     "metadata": {},
     "outputs": [
      {
       "output_type": "stream",
       "stream": "stdout",
       "text": [
        "let's calculate transit values for the Sun and the Earth!\n",
        "start with angle set to 90.\n",
        "('semi as ', 14971238966046.467)\n",
        "('imp as ', 1.3176963152074073e-14)\n",
        "\n",
        "('finished! with track as ', 1, ' and placehere as ', 1)\n",
        "('transit probability as ', array([ 0.00468954]))\n",
        "('transit T14 as ', array([ 47135.67135442]))\n",
        "\n",
        "\n",
        "now try angle set to 180.\n",
        "('semi as ', 14971238966046.467)\n",
        "('imp as ', -215.19613918475741)\n",
        "produces an invalid impact parameter above!  Negative sign due to angle as well, it seems.\n",
        "\n",
        "Oh no, too many nans for given amount of data!\n",
        "('At a track of ', 0)\n"
       ]
      },
      {
       "output_type": "stream",
       "stream": "stderr",
       "text": [
        "transitfunctions.py:268: RuntimeWarning: invalid value encountered in sqrt\n",
        "  sqrt14 = np.sqrt((1 + (rp/rs))**2.0 - imp**2.0)\n",
        "transitfunctions.py:274: RuntimeWarning: invalid value encountered in sqrt\n",
        "  sqrt23 = np.sqrt((1 - (rp/rs))**2.0 - imp**2.0)\n",
        "transitfunctions.py:294: RuntimeWarning: invalid value encountered in sqrt\n",
        "  constex = (1 - np.sqrt(1 - imp**2.0)) #At max light lost\n"
       ]
      },
      {
       "ename": "ValueError",
       "evalue": "Oh no!  No more data to screen through.  Seems there were too many nans or too few data to start with.",
       "output_type": "pyerr",
       "traceback": [
        "\u001b[1;31m---------------------------------------------------------------------------\u001b[0m\n\u001b[1;31mValueError\u001b[0m                                Traceback (most recent call last)",
        "\u001b[1;32m<ipython-input-2-c7d17cd0f146>\u001b[0m in \u001b[0;36m<module>\u001b[1;34m()\u001b[0m\n\u001b[0;32m     56\u001b[0m                               \u001b[0mperiod\u001b[0m\u001b[1;33m=\u001b[0m\u001b[0mper\u001b[0m\u001b[1;33m,\u001b[0m \u001b[0mecc\u001b[0m\u001b[1;33m=\u001b[0m\u001b[0meccearth\u001b[0m\u001b[1;33m,\u001b[0m\u001b[1;33m\u001b[0m\u001b[0m\n\u001b[0;32m     57\u001b[0m                               \u001b[0mangle\u001b[0m\u001b[1;33m=\u001b[0m\u001b[1;36m180\u001b[0m\u001b[1;33m,\u001b[0m \u001b[0momega\u001b[0m\u001b[1;33m=\u001b[0m\u001b[1;36m180\u001b[0m\u001b[1;33m,\u001b[0m\u001b[1;33m\u001b[0m\u001b[0m\n\u001b[1;32m---> 58\u001b[1;33m                               u1=.394, u2=.296, numruns=1)\n\u001b[0m\u001b[0;32m     59\u001b[0m \u001b[1;33m\u001b[0m\u001b[0m\n\u001b[0;32m     60\u001b[0m \u001b[1;32mprint\u001b[0m\u001b[1;33m(\u001b[0m\u001b[1;34m'transit probability as '\u001b[0m\u001b[1;33m,\u001b[0m \u001b[0msolarvals2\u001b[0m\u001b[1;33m[\u001b[0m\u001b[1;34m'prob'\u001b[0m\u001b[1;33m]\u001b[0m\u001b[1;33m)\u001b[0m\u001b[1;33m\u001b[0m\u001b[0m\n",
        "\u001b[1;32mC:\\Users\\Silver\\Documents\\GitHub\\VESPA\\transitfunctions.pyc\u001b[0m in \u001b[0;36mcalctransit\u001b[1;34m(mass1, massp, r1, r2, period, ecc, angle, imp, omega, u1, u2, numruns, **kwargs)\u001b[0m\n\u001b[0;32m    330\u001b[0m                                 \u001b[1;32mprint\u001b[0m\u001b[1;33m(\u001b[0m\u001b[1;34m'Oh no, too many nans for given amount of data!'\u001b[0m\u001b[1;33m)\u001b[0m\u001b[1;33m\u001b[0m\u001b[0m\n\u001b[0;32m    331\u001b[0m                                 \u001b[1;32mprint\u001b[0m\u001b[1;33m(\u001b[0m\u001b[1;34m'At a track of '\u001b[0m\u001b[1;33m,\u001b[0m \u001b[0mtrack\u001b[0m\u001b[1;33m)\u001b[0m\u001b[1;33m\u001b[0m\u001b[0m\n\u001b[1;32m--> 332\u001b[1;33m                                 \u001b[1;32mraise\u001b[0m \u001b[0mValueError\u001b[0m\u001b[1;33m(\u001b[0m\u001b[1;34m'Oh no!  No more data to screen through.  Seems there were too many nans or too few data to start with.'\u001b[0m\u001b[1;33m)\u001b[0m\u001b[1;33m\u001b[0m\u001b[0m\n\u001b[0m\u001b[0;32m    333\u001b[0m                         \u001b[1;32mcontinue\u001b[0m\u001b[1;33m\u001b[0m\u001b[0m\n\u001b[0;32m    334\u001b[0m \u001b[1;33m\u001b[0m\u001b[0m\n",
        "\u001b[1;31mValueError\u001b[0m: Oh no!  No more data to screen through.  Seems there were too many nans or too few data to start with."
       ]
      }
     ],
     "prompt_number": 2
    },
    {
     "cell_type": "code",
     "collapsed": false,
     "input": [
      "exit"
     ],
     "language": "python",
     "metadata": {},
     "outputs": [],
     "prompt_number": 3
    },
    {
     "cell_type": "code",
     "collapsed": false,
     "input": [
      "##############################################TESTING how much the angle affects generated data"
     ],
     "language": "python",
     "metadata": {},
     "outputs": [],
     "prompt_number": 1
    },
    {
     "cell_type": "code",
     "collapsed": false,
     "input": [
      "import transitfunctions as trans"
     ],
     "language": "python",
     "metadata": {},
     "outputs": [],
     "prompt_number": 2
    },
    {
     "cell_type": "code",
     "collapsed": false,
     "input": [
      "woo = trans.runmodel(numruns=10)\n",
      "#Has inclination angles all set to 90\n",
      "\n",
      "daysecs = 86400.0\n",
      "print('')\n",
      "print('T14 in days as ', woo['T14']/daysecs) #T14, in days\n",
      "print('')\n",
      "print('semi as ', woo['semi']) #semimajor axis, in centimeters\n",
      "print('')\n",
      "print('impact parameter as ', woo['imp']) #impact parameter)\n",
      "print('')\n",
      "print('angle i as ', woo['angle']) #angle i, inc\n",
      "print('')\n",
      "print('period in days as ', woo['period']/daysecs) #period, in days\n",
      "print('')"
     ],
     "language": "python",
     "metadata": {},
     "outputs": [
      {
       "output_type": "stream",
       "stream": "stdout",
       "text": [
        "('finished! with track as ', 10, ' and placehere as ', 10)\n",
        "\n",
        "('T14 in days as ', array([  700486.60674576,  1036061.2861464 ,  1496719.80729985,\n",
        "         164955.51275353,   170833.76964177,  1823635.46736846,\n",
        "         471256.45597064,  1966761.40705001,   318536.01190636,\n",
        "         322227.3847577 ]))\n",
        "\n",
        "('semi as ', array([  2.54838291e+26,   6.63598009e+27,   1.22669474e+27,\n",
        "         1.48508880e+25,   4.47047726e+26,   7.50289490e+26,\n",
        "         5.14128763e+25,   3.18818974e+26,   2.66871394e+25,\n",
        "         1.22111277e+27]))\n",
        "\n",
        "('impact parameter as ', array([ 1.52855105,  1.26104653,  1.56618587,  0.04678299,  1.94830381,\n",
        "        0.99777784,  0.36891659,  0.87959077,  0.15004895,  1.88008904]))\n",
        "\n",
        "('angle i as ', array([ 90.,  90.,  90.,  90.,  90.,  90.,  90.,  90.,  90.,  90.]))\n",
        "\n",
        "('period in days as ', array([  5.57541869e+22,   5.48766115e+24,   3.41746357e+23,\n",
        "         7.80279476e+20,   1.28763682e+23,   1.57939190e+23,\n",
        "         4.65029156e+21,   5.65582051e+22,   1.89222947e+21,\n",
        "         5.82316222e+23]))\n",
        "\n"
       ]
      }
     ],
     "prompt_number": 3
    },
    {
     "cell_type": "code",
     "collapsed": false,
     "input": [
      "exit"
     ],
     "language": "python",
     "metadata": {},
     "outputs": [],
     "prompt_number": 4
    },
    {
     "cell_type": "code",
     "collapsed": false,
     "input": [
      "#####################################"
     ],
     "language": "python",
     "metadata": {},
     "outputs": [],
     "prompt_number": 1
    },
    {
     "cell_type": "code",
     "collapsed": false,
     "input": [
      "import transitfunctions as trans"
     ],
     "language": "python",
     "metadata": {},
     "outputs": [],
     "prompt_number": 2
    },
    {
     "cell_type": "code",
     "collapsed": false,
     "input": [
      "woo = trans.runmodel(numruns=10)\n",
      "#Has inclination angles all set to 45\n",
      "\n",
      "daysecs = 86400.0\n",
      "print('')\n",
      "print('T14 in days as ', woo['T14']/daysecs) #T14, in days\n",
      "print('')\n",
      "print('semi as ', woo['semi']) #semimajor axis, in centimeters\n",
      "print('')\n",
      "print('impact parameter as ', woo['imp']) #impact parameter)\n",
      "print('')\n",
      "print('angle i as ', woo['angle']) #angle i, inc\n",
      "print('')\n",
      "print('period in days as ', woo['period']/daysecs) #period, in days\n",
      "print('')"
     ],
     "language": "python",
     "metadata": {},
     "outputs": [
      {
       "output_type": "stream",
       "stream": "stdout",
       "text": [
        "('finished! with track as ', 10, ' and placehere as ', 21)\n",
        "\n",
        "('T14 in days as ', array([ 0.01292541,  0.01897462,  0.02240093,  0.00691671,  0.03183171,\n",
        "        0.02038885,  0.02703903,  0.00734588,  0.00898639,  0.02387161]))\n",
        "\n",
        "('semi as ', array([  6.12525180e+10,   1.84183600e+10,   5.02429498e+10,\n",
        "         4.95338039e+10,   1.47795519e+11,   2.51254428e+10,\n",
        "         3.88312659e+10,   4.62812771e+10,   3.38454559e+10,\n",
        "         5.77621507e+10]))\n",
        "\n",
        "('impact parameter as ', array([ 1.44129397,  1.44592226,  1.10382555,  0.30438031,  0.70538422,\n",
        "        1.31796162,  1.13322539,  1.69372096,  1.39994023,  1.34981416]))\n",
        "\n",
        "('angle i as ', array([ 45.,  45.,  45.,  45.,  45.,  45.,  45.,  45.,  45.,  45.]))\n",
        "\n",
        "('period in days as ', array([ 0.14704453,  0.03403706,  0.09814243,  0.14012623,  0.55667181,\n",
        "        0.05464631,  0.09763875,  0.13576731,  0.08495612,  0.10996215]))\n",
        "\n"
       ]
      }
     ],
     "prompt_number": 3
    },
    {
     "cell_type": "code",
     "collapsed": false,
     "input": [],
     "language": "python",
     "metadata": {},
     "outputs": []
    }
   ],
   "metadata": {}
  }
 ]
}