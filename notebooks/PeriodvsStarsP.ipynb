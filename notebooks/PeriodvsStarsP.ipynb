{
 "cells": [
  {
   "cell_type": "code",
   "execution_count": 1,
   "metadata": {
    "collapsed": false
   },
   "outputs": [
    {
     "name": "stderr",
     "output_type": "stream",
     "text": [
      "WARNING:root:progressbar not imported\n",
      "/u/jpegues/anaconda/lib/python2.7/site-packages/orbitutils-0.1.4-py2.7.egg/orbitutils/utils.py:119: RuntimeWarning: invalid value encountered in divide\n",
      "  Edots = np.sqrt(G*mreds*MSUN/(semimajors*AU)**3)/(1-eccs*np.cos(Es))\n",
      "WARNING:root:MAInterpolationFunction not passed, so generating one...\n",
      "/u/jpegues/anaconda/lib/python2.7/site-packages/VESPA-0.0-py2.7-linux-x86_64.egg/vespa/populations.py:1693: RuntimeWarning: invalid value encountered in sqrt\n",
      "  np.sqrt(1-ecc**2)/(1+ecc*np.sin(w*np.pi/180)) #*24*60\n",
      "/u/jpegues/anaconda/lib/python2.7/site-packages/VESPA-0.0-py2.7-linux-x86_64.egg/vespa/populations.py:1697: RuntimeWarning: invalid value encountered in sqrt\n",
      "  np.sqrt(1-ecc**2)/(1-ecc*np.sin(w*np.pi/180)) #*24*60\n",
      "WARNING:root:MAInterpolationFunction not passed, so generating one...\n",
      "WARNING:root:MAInterpolationFunction not passed, so generating one...\n",
      "/u/jpegues/anaconda/lib/python2.7/site-packages/VESPA-0.0-py2.7-linux-x86_64.egg/vespa/populations.py:1691: RuntimeWarning: invalid value encountered in sqrt\n",
      "  np.sqrt(1-ecc**2)/(1+ecc*np.sin(w*np.pi/180)) #*24*60\n"
     ]
    }
   ],
   "source": [
    "filename = 'testnew'\n",
    "from starutils.populations import BGStarPopulation_TRILEGAL as bgs\n",
    "filebgs = bgs(filename, dec = 0, ra = 0)\n",
    "\n",
    "\n",
    "filename = 'testnew'\n",
    "from vespa.populations import BEBPopulation as beb\n",
    "filebeb = beb(trilegal_filename=filename+'.h5', powerlawpower = 3, makeperiod='powerlaw', n=10)\n"
   ]
  },
  {
   "cell_type": "code",
   "execution_count": 6,
   "metadata": {
    "collapsed": false
   },
   "outputs": [
    {
     "name": "stdout",
     "output_type": "stream",
     "text": [
      "Periods recorded from power law distribution.\n",
      "[  3.48634968e-01   3.01635867e+01   3.13993469e+01   3.24222544e+01\n",
      "   5.46708003e+01   7.92317318e+01   1.35295850e+02   1.59925824e+02\n",
      "   3.33446646e+02   7.91857747e+02]\n",
      "\n",
      "Periods recorded under stars.P.\n",
      "[  2.09661995e-01   2.69344264e-01   7.54747585e-01   8.54036383e-01\n",
      "   1.69220808e+00   1.77176445e+00   2.43436713e+00   2.91406366e+01\n",
      "   1.00442796e+02   2.71540964e+03]\n",
      "\n",
      "They're not the same yet!\n"
     ]
    }
   ],
   "source": [
    "import numpy as np\n",
    "\n",
    "print 'Periods recorded from power law distribution.'\n",
    "print np.sort(filebeb.period)\n",
    "\n",
    "print ''\n",
    "\n",
    "print 'Periods recorded under stars.P.'\n",
    "print np.sort(filebeb.stars.P)\n",
    "\n",
    "print ''\n",
    "\n",
    "print \"They're not the same yet!\"\n"
   ]
  },
  {
   "cell_type": "code",
   "execution_count": 5,
   "metadata": {
    "collapsed": false
   },
   "outputs": [
    {
     "name": "stdout",
     "output_type": "stream",
     "text": [
      "I tried changing filebeb.stars.P locally from within EclipsePopulation very naively...\n",
      "But that didn't work.  I will continue to investigate.\n",
      "Actually, it only changed them locally, for some reason.\n",
      "I saved both 'period' and 'stars.P' to a text file after my naive changes to stars.P...\n",
      "From within EclipsePopulation, and the change worked.  But those changes did not...\n",
      "...carry over outside of EclipsePopulation. Something rewrote the changes, apparently.\n",
      "I will explore more tomorrow!\n"
     ]
    }
   ],
   "source": [
    "print 'I tried changing filebeb.stars.P locally from within EclipsePopulation very naively...'\n",
    "print \"But that didn't work.  I will continue to investigate.\"\n",
    "print \"Actually, it only changed them locally, for some reason.\"\n",
    "print \"I saved both 'period' and 'stars.P' to a text file after my naive changes to stars.P...\"\n",
    "print \"From within EclipsePopulation, and the change worked.  But those changes did not...\"\n",
    "print \"...carry over outside of EclipsePopulation. Something rewrote the changes, apparently.\"\n",
    "print \"I will explore more tomorrow!\""
   ]
  },
  {
   "cell_type": "code",
   "execution_count": null,
   "metadata": {
    "collapsed": true
   },
   "outputs": [],
   "source": []
  }
 ],
 "metadata": {
  "kernelspec": {
   "display_name": "Python 2",
   "language": "python",
   "name": "python2"
  },
  "language_info": {
   "codemirror_mode": {
    "name": "ipython",
    "version": 2
   },
   "file_extension": ".py",
   "mimetype": "text/x-python",
   "name": "python",
   "nbconvert_exporter": "python",
   "pygments_lexer": "ipython2",
   "version": "2.7.9"
  }
 },
 "nbformat": 4,
 "nbformat_minor": 0
}
