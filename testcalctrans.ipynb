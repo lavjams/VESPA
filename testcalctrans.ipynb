{
 "metadata": {
  "name": "",
  "signature": "sha256:f7b3885d98e02944cf84d2b6a7faf1b46586b325c4a9e325b6dacec7bc999a76"
 },
 "nbformat": 3,
 "nbformat_minor": 0,
 "worksheets": [
  {
   "cells": [
    {
     "cell_type": "code",
     "collapsed": false,
     "input": [
      "#Imports necessary functions\n",
      "import vespa.populations as pop\n",
      "import transitfunctions as trans\n",
      "import numpy as np\n",
      "from vespa.populations import BEBPopulation as beb\n",
      "import astropy.constants as const\n"
     ],
     "language": "python",
     "metadata": {},
     "outputs": [],
     "prompt_number": 6
    },
    {
     "cell_type": "code",
     "collapsed": false,
     "input": [
      "#Below generates some valid radii and mass and whatnot\n",
      "example = beb(trilegal_filename='samplepop.h5')\n",
      "rsun = const.R_sun.cgs.value #Radius of sun, cgs\n"
     ],
     "language": "python",
     "metadata": {},
     "outputs": [
      {
       "output_type": "stream",
       "stream": "stderr",
       "text": [
        "WARNING:root:MAInterpolationFunction not passed, so generating one...\n"
       ]
      },
      {
       "output_type": "stream",
       "stream": "stderr",
       "text": [
        "WARNING:root:MAInterpolationFunction not passed, so generating one...\n"
       ]
      },
      {
       "output_type": "stream",
       "stream": "stderr",
       "text": [
        "WARNING:root:MAInterpolationFunction not passed, so generating one...\n"
       ]
      },
      {
       "output_type": "stream",
       "stream": "stderr",
       "text": [
        "WARNING:root:MAInterpolationFunction not passed, so generating one...\n"
       ]
      }
     ],
     "prompt_number": 7
    },
    {
     "cell_type": "code",
     "collapsed": false,
     "input": [
      "#Some values\n",
      "mass1 = np.array(example.stars.mass_1[0:10])\n",
      "massp = np.array(example.stars.mass_2[0:10])\n",
      "r1 = np.array(example.stars.radius_1[0:10])\n",
      "rp = np.array(example.stars.radius_2[0:10])\n",
      "mag1s = np.ones(len(mass1))\n",
      "mag2s = np.ones(len(mass1))\n",
      "period = np.array(example.stars.P[0:10])\n",
      "Ps = period\n",
      "incs = np.array(example.stars.inc[0:10])\n",
      "eccs = np.array(example.stars.ecc[0:10])\n",
      "omegas = np.array(example.stars.w[0:10])\n",
      "semis = trans.calcsemimajor(Ps, mass1)\n",
      "imps = trans.calcimp(eccs, incs, semis, r1, omegas)\n",
      "u1s = np.array(example.stars.u1_1[0:10])\n",
      "u2s = np.array(example.stars.u2_1[0:10])\n"
     ],
     "language": "python",
     "metadata": {},
     "outputs": [],
     "prompt_number": 8
    },
    {
     "cell_type": "code",
     "collapsed": false,
     "input": [
      "#Runs the orig tests\n",
      "P, R_large, a, k, b_tra, inc = Ps, r1, semis, rp/r1, imps, incs\n",
      "T14_tra = P/np.pi*np.arcsin(R_large*rsun/a * np.sqrt((1+k)**2 - b_tra**2)/np.sin(inc*np.pi/180)) *\\\n",
      "\tnp.sqrt(1-eccs**2)/(1+eccs*np.sin(omegas*np.pi/180)) #*24*60\n",
      "T14_tra0 = P/np.pi*np.arcsin(R_large*rsun/a * np.sqrt((1+k)**2 - b_tra**2)/np.sin(inc*np.pi/180))\n",
      "#Runs the test tests\n",
      "testvals = trans.calctransit(mass1=mass1, massp=massp, r1=r1, r2=rp, period=Ps, ecc=eccs, angle=incs, imp=imps, omega=omegas, u1=u1s, u2=u2s, numruns=len(mass1))\n"
     ],
     "language": "python",
     "metadata": {},
     "outputs": [],
     "prompt_number": 9
    },
    {
     "cell_type": "code",
     "collapsed": false,
     "input": [
      "print(\"Values as:\")\n",
      "print(\"Calculated T14 with transitfunctions.py as\\n\" + str(testvals['T14'][0:10]))\n",
      "print('')\n",
      "print(\"Actual T14 as\\n\" + str(np.array(example.stars.T14_pri)[0:10]))\n",
      "print('')\n",
      "print(\"And T14 from vespa.populations.calculate_eclipse as\\n\" + str(np.array(T14_tra)[0:10]))\n",
      "print('')\n"
     ],
     "language": "python",
     "metadata": {},
     "outputs": [
      {
       "output_type": "stream",
       "stream": "stdout",
       "text": [
        "Values as:\n",
        "Calculated T14 with transitfunctions.py as\n",
        "[        nan  0.08159248         nan  0.06967321         nan  0.10663799\n",
        "  0.07348091  0.07063638  0.03061073  0.16973649]\n",
        "\n",
        "Actual T14 as\n",
        "[ 0.          0.06556814  0.          0.05485667  0.          0.05748845\n",
        "  0.05475006  0.05032737  0.0242208   0.13892918]\n",
        "\n",
        "And T14 from vespa.populations.calculate_eclipse as\n",
        "[        nan  0.08159248         nan  0.06967321         nan  0.10663799\n",
        "  0.07348091  0.07063638  0.03061073  0.16973649]\n",
        "\n"
       ]
      }
     ],
     "prompt_number": 10
    },
    {
     "cell_type": "code",
     "collapsed": false,
     "input": [],
     "language": "python",
     "metadata": {},
     "outputs": []
    }
   ],
   "metadata": {}
  }
 ]
}